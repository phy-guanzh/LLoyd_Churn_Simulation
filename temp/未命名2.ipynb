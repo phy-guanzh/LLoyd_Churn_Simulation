{
 "cells": [
  {
   "cell_type": "code",
   "execution_count": 1,
   "id": "1986332a-9a90-46aa-8229-4d885fb93baf",
   "metadata": {
    "tags": []
   },
   "outputs": [],
   "source": [
    "import numpy as np\n",
    "import pandas as pd\n",
    "import seaborn as sns\n",
    "import matplotlib.pyplot as plt\n",
    "from sklearn.model_selection import train_test_split\n",
    "import networkx as nx\n",
    "from collections import defaultdict"
   ]
  },
  {
   "cell_type": "code",
   "execution_count": 2,
   "id": "5d547c11-ecf4-497e-8cf3-4e47f537c566",
   "metadata": {
    "tags": []
   },
   "outputs": [],
   "source": [
    "data = pd.read_excel(\"/Users/zheguan/CWR_fig/Customer_Churn_Data_Large.xlsx\", sheet_name= None)"
   ]
  },
  {
   "cell_type": "code",
   "execution_count": 4,
   "id": "9da3845f-51c7-4406-a465-03f0a0fa8659",
   "metadata": {
    "tags": []
   },
   "outputs": [],
   "source": [
    "Customer_Demographics = pd.merge(data['Customer_Demographics'], data['Churn_Status'], how=\"left\", on=\"CustomerID\")\n",
    "#train_data, test_data = train_test_split(Customer_Demographics, test_size=0.2, random_state=42, stratify=Customer_Demographics['ChurnStatus'])"
   ]
  },
  {
   "cell_type": "code",
   "execution_count": 5,
   "id": "24ab6408-c2dd-45fb-a976-92ffcba1d47d",
   "metadata": {
    "tags": []
   },
   "outputs": [],
   "source": [
    "Customer_Demographics[\"Age_range\"]= pd.cut(Customer_Demographics[\"Age\"],\n",
    "                               bins = [15, 20, 30, 40, 50, 60, np.inf],\n",
    "                               labels = [\"15-20\", \"20-30\", \"30-40\", \"40-50\", \"50-60\", \"60+\"])"
   ]
  },
  {
   "cell_type": "code",
   "execution_count": 6,
   "id": "f5507899-7054-40c8-bdfd-0ea0682ada4f",
   "metadata": {
    "tags": []
   },
   "outputs": [],
   "source": [
    "Age_distribution = pd.crosstab(Customer_Demographics[\"Age\"],Customer_Demographics[\"ChurnStatus\"],normalize=\"index\").reset_index()"
   ]
  }
 ],
 "metadata": {
  "kernelspec": {
   "display_name": "Python 3.10.13",
   "language": "python",
   "name": "python3.10.13"
  },
  "language_info": {
   "codemirror_mode": {
    "name": "ipython",
    "version": 3
   },
   "file_extension": ".py",
   "mimetype": "text/x-python",
   "name": "python",
   "nbconvert_exporter": "python",
   "pygments_lexer": "ipython3",
   "version": "3.10.13"
  }
 },
 "nbformat": 4,
 "nbformat_minor": 5
}

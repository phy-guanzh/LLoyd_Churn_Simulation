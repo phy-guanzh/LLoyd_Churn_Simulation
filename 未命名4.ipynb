{
 "cells": [
  {
   "cell_type": "code",
   "execution_count": null,
   "id": "bc7b2714-9a80-4bf1-a850-baa1815b0e03",
   "metadata": {},
   "outputs": [],
   "source": [
    "def focal_loss(alpha, gamma):\n",
    "    def focal_loss_func(y_pred, y_true):\n",
    "        p_t = np.exp(-y_pred)\n",
    "        loss = alpha * (1 - p_t) ** gamma * y_pred\n",
    "        return \"focal_loss\", np.mean(loss)\n",
    "    return focal_loss_func\n"
   ]
  }
 ],
 "metadata": {
  "kernelspec": {
   "display_name": "Python 3.10.13",
   "language": "python",
   "name": "python3.10.13"
  },
  "language_info": {
   "codemirror_mode": {
    "name": "ipython",
    "version": 3
   },
   "file_extension": ".py",
   "mimetype": "text/x-python",
   "name": "python",
   "nbconvert_exporter": "python",
   "pygments_lexer": "ipython3",
   "version": "3.10.13"
  }
 },
 "nbformat": 4,
 "nbformat_minor": 5
}

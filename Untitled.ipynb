{
 "cells": [
  {
   "cell_type": "code",
   "execution_count": 4,
   "id": "da05a164-53ac-48b7-b6da-786cd0341c2c",
   "metadata": {},
   "outputs": [
    {
     "name": "stdout",
     "output_type": "stream",
     "text": [
      "Collecting networkx\n",
      "  Downloading networkx-3.4.2-py3-none-any.whl (1.7 MB)\n",
      "\u001b[2K     \u001b[38;2;114;156;31m━━━━━━━━━━━━━━━━━━━━━━━━━━━━━━━━━━━━━━━━\u001b[0m \u001b[32m1.7/1.7 MB\u001b[0m \u001b[31m9.9 MB/s\u001b[0m eta \u001b[36m0:00:00\u001b[0m[31m10.0 MB/s\u001b[0m eta \u001b[36m0:00:01\u001b[0m\n",
      "\u001b[?25hInstalling collected packages: networkx\n",
      "Successfully installed networkx-3.4.2\n",
      "\n",
      "\u001b[1m[\u001b[0m\u001b[34;49mnotice\u001b[0m\u001b[1;39;49m]\u001b[0m\u001b[39;49m A new release of pip is available: \u001b[0m\u001b[31;49m23.0.1\u001b[0m\u001b[39;49m -> \u001b[0m\u001b[32;49m24.3.1\u001b[0m\n",
      "\u001b[1m[\u001b[0m\u001b[34;49mnotice\u001b[0m\u001b[1;39;49m]\u001b[0m\u001b[39;49m To update, run: \u001b[0m\u001b[32;49mpip install --upgrade pip\u001b[0m\n"
     ]
    }
   ],
   "source": [
    "!pip install networkx"
   ]
  },
  {
   "cell_type": "code",
   "execution_count": 5,
   "id": "bc2044c2-578b-4ef9-bd47-fc6255d5843e",
   "metadata": {},
   "outputs": [
    {
     "name": "stdout",
     "output_type": "stream",
     "text": [
      "Maximum flow: 29\n",
      "Group 1 assigned 3 people to Table 5\n",
      "Group 2 assigned 2 people to Table 4\n",
      "Group 2 assigned 2 people to Table 5\n",
      "Group 3 assigned 2 people to Table 4\n",
      "Group 4 assigned 3 people to Table 3\n",
      "Group 4 assigned 2 people to Table 4\n",
      "Group 5 assigned 3 people to Table 2\n",
      "Group 5 assigned 3 people to Table 3\n",
      "Group 6 assigned 1 people to Table 1\n",
      "Group 6 assigned 3 people to Table 2\n",
      "Group 7 assigned 5 people to Table 1\n"
     ]
    }
   ],
   "source": [
    "import networkx as nx\n",
    "\n",
    "# 数据\n",
    "num_groups = 7\n",
    "num_tables = 5\n",
    "group_sizes = [3, 4, 2, 5, 6, 4, 5]\n",
    "table_capacity = 6\n",
    "\n",
    "# 创建图\n",
    "G = nx.DiGraph()\n",
    "\n",
    "# 添加源节点和汇节点\n",
    "source = \"S\"\n",
    "sink = \"T\"\n",
    "G.add_node(source)\n",
    "G.add_node(sink)\n",
    "\n",
    "# 添加组节点和连接到源节点的边\n",
    "for i in range(num_groups):\n",
    "    group_node = f\"G{i+1}\"\n",
    "    G.add_edge(source, group_node, capacity=group_sizes[i])\n",
    "\n",
    "# 添加桌子节点和连接到汇节点的边\n",
    "for j in range(num_tables):\n",
    "    table_node = f\"T{j+1}\"\n",
    "    G.add_edge(table_node, sink, capacity=table_capacity)\n",
    "\n",
    "# 添加组与桌子之间的边\n",
    "for i in range(num_groups):\n",
    "    for j in range(num_tables):\n",
    "        group_node = f\"G{i+1}\"\n",
    "        table_node = f\"T{j+1}\"\n",
    "        G.add_edge(group_node, table_node, capacity=float('inf'))  # 无穷大容量\n",
    "\n",
    "# 求解最大流\n",
    "flow_value, flow_dict = nx.maximum_flow(G, source, sink)\n",
    "\n",
    "print(f\"Maximum flow: {flow_value}\")\n",
    "\n",
    "# 检查分配\n",
    "for i in range(num_groups):\n",
    "    group_node = f\"G{i+1}\"\n",
    "    for j in range(num_tables):\n",
    "        table_node = f\"T{j+1}\"\n",
    "        if flow_dict[group_node][table_node] > 0:\n",
    "            print(f\"Group {i+1} assigned {flow_dict[group_node][table_node]} people to Table {j+1}\")\n"
   ]
  },
  {
   "cell_type": "code",
   "execution_count": null,
   "id": "6481c1f2-bb36-4cf4-b9a5-f98d08394791",
   "metadata": {},
   "outputs": [],
   "source": []
  }
 ],
 "metadata": {
  "kernelspec": {
   "display_name": "Python 3.10.13",
   "language": "python",
   "name": "python3.10.13"
  },
  "language_info": {
   "codemirror_mode": {
    "name": "ipython",
    "version": 3
   },
   "file_extension": ".py",
   "mimetype": "text/x-python",
   "name": "python",
   "nbconvert_exporter": "python",
   "pygments_lexer": "ipython3",
   "version": "3.10.13"
  }
 },
 "nbformat": 4,
 "nbformat_minor": 5
}
